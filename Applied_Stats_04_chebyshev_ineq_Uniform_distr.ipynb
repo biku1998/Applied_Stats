{
  "nbformat": 4,
  "nbformat_minor": 0,
  "metadata": {
    "colab": {
      "name": "Applied_Stats_04_chebyshev_ineq_Uniform_distr.ipynb",
      "provenance": [],
      "collapsed_sections": [],
      "authorship_tag": "ABX9TyNwUTWDOLE9I3dNkgYX/kmA",
      "include_colab_link": true
    },
    "kernelspec": {
      "name": "python3",
      "display_name": "Python 3"
    }
  },
  "cells": [
    {
      "cell_type": "markdown",
      "metadata": {
        "id": "view-in-github",
        "colab_type": "text"
      },
      "source": [
        "<a href=\"https://colab.research.google.com/github/biku1998/Applied_Stats/blob/master/Applied_Stats_04_chebyshev_ineq_Uniform_distr.ipynb\" target=\"_parent\"><img src=\"https://colab.research.google.com/assets/colab-badge.svg\" alt=\"Open In Colab\"/></a>"
      ]
    },
    {
      "cell_type": "markdown",
      "metadata": {
        "id": "Too8zci7hDR5",
        "colab_type": "text"
      },
      "source": [
        "## Chebyshev's inequality\n",
        "\n",
        "#### First Let's see the problem that chebyshev's inequality is trying to solve\n",
        "\n",
        "Let's Say we have a random variable X with finite mean, non-zero and finite variance, and we don't know the distribution of the random variable and we want to answer *what is the probablity that my  P-% of data lie between lie in range 1 std, 2 sdt..*\n",
        "\n",
        "If we know that distribution is gaussian, life is easy, we can easily answer the above question using our 68-95-99.7 rule.\n",
        "\n",
        "Statment of Inequality :\n",
        "    \n",
        "        if the variance is small , then X is unlikely to be too far from the mean. \n",
        "        That means if the variance is small we have little randomness so X cannot be too far from the mean\n",
        "\n",
        "*Mathematically*\n",
        "\n",
        "$$Chebyshev~inequality:~ P(|X-\\mu| \\geq c)\\leq\\frac{\\sigma^2}{c^2}~~ ,c\\geq 0$$\n",
        "\n",
        "As we can see from the above equation, if the variance is small on RHS of >= and c is small i.e. we are talking small distance from the mean then the probablity of X falling away from the mean is also small\n",
        "\n",
        "**The chebyshev's inequality is an application of Markov inequality**\n",
        "You can find the proof here if interested : https://www.youtube.com/watch?v=d5pnfFvggYk\n",
        "\n"
      ]
    },
    {
      "cell_type": "markdown",
      "metadata": {
        "id": "NUNiOPcXmomC",
        "colab_type": "text"
      },
      "source": [
        "## Uniform Distribution\n",
        "\n",
        "There are 2 types of uniform distribution\n",
        "1. Discrete uniform distribution\n",
        "2. Continuous uniform distribution\n",
        "\n",
        "**Note : For continuous variable we use probablity density function i.e pdf and For discrete variable we use probablity mass function**\n",
        "\n",
        "The parameters of the distriution are a and b\n",
        "These are nothing but intervals of the distribution i.e. [a,b]\n",
        "\n",
        "Both a and b are integers and b >= a\n",
        "Then we calculate n\n",
        "            \n",
        "            n = b-a+1, here n is no of outcomes\n",
        "\n",
        "In uniform distribution on x-axis we have discrete values that X can take. And on Y axis we have probablity of random variable X taking some value which is 1/n for all discrete values. Since all the discrete values are equally probable i.e all of them have same probablity\n",
        "\n",
        "<img src = https://upload.wikimedia.org/wikipedia/commons/1/1f/Uniform_discrete_pmf_svg.svg width = 400 alt = \"discrete uniform distribution\"/>\n",
        "\n",
        "*Another way of saying \"discrete uniform distribution\" would be \"a known, finite number of outcomes equally likely to happen\"*\n",
        "\n",
        "**Some Important properties of Discrete uniform distribution**\n",
        "* The mean of a uniform discrete random variable is \n",
        "    $$\\frac{a+b}{2}$$\n",
        "\n",
        "* The median also is\n",
        "    $$\\frac{a+b}{2}$$\n",
        "* The skewness is 0\n",
        "\n",
        "\n",
        "\n",
        "\n",
        "\n"
      ]
    },
    {
      "cell_type": "markdown",
      "metadata": {
        "id": "ken5EZ5x0QH-",
        "colab_type": "text"
      },
      "source": [
        "## Continuous Uniform Distribution\n",
        "\n",
        "* Since it's for continuous variables, it will have a pdf not pmf\n",
        "* The distribution describes an experiment where there is an arbitrary outcome that lies between certain bounds.The bounds are defined by the parameters, a and b, which are the minimum and maximum values.\n",
        "* The interval can be closed [a,b] or open (a,b)\n",
        "* The pdf of a continuous random variable having uniform distribution is normally just a line\n",
        "* Here a < b\n",
        "* The mean and median are same as discrete random variable i.e\n",
        "    $$\\frac{a+b}{2}$$\n",
        "* The probablity of every variable is \n",
        "    $$\\frac{1}{b-a}$$\n",
        "\n",
        "<img alt = \"pdf of cont uniform dist\" src = https://upload.wikimedia.org/wikipedia/commons/9/96/Uniform_Distribution_PDF_SVG.svg  width = 400/>\n",
        "\n",
        "\n",
        "\n",
        "* Most random number generators functions use this distribution\n",
        "\n",
        "\n",
        "\n",
        "refer https://en.wikipedia.org/wiki/Uniform_distribution_(continuous)\n",
        "for more info.\n"
      ]
    },
    {
      "cell_type": "code",
      "metadata": {
        "id": "0H_FD4dubZed",
        "colab_type": "code",
        "colab": {}
      },
      "source": [
        ""
      ],
      "execution_count": 0,
      "outputs": []
    }
  ]
}